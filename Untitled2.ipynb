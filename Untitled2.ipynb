{
 "cells": [
  {
   "cell_type": "code",
   "execution_count": null,
   "id": "d051213e-78a0-4ed9-9467-10bf7c5d3f85",
   "metadata": {},
   "outputs": [],
   "source": [
    "\"\"\"Q1. What is Abstraction in OOps? Explain with an example.\"\"\""
   ]
  },
  {
   "cell_type": "code",
   "execution_count": null,
   "id": "2c3783b0-1bcd-4866-9d3a-2a27a4ee27a0",
   "metadata": {},
   "outputs": [],
   "source": [
    "bstraction in Object-Oriented Programming (OOP) is a mechanism that allows a developer to focus on the essential characteristics of an object, while ignoring its internal implementation details. It helps in hiding the complexities of the system and providing a simplified and clear interface to interact with the system.\n",
    "\n",
    "For example, consider a car. From a user's perspective, the essential features of a car are its ability to start, stop, accelerate, and change gears. These features form the abstract interface of the car, and the user interacts with the car through this interface. However, the internal details of the car, such as how the engine works or how the gears are changed, are abstracted away from the user and are not important from the user's perspective.\n",
    "\n",
    "Abstraction is a key concept in OOP, as it enables the creation of objects that are easy to use and understand, and it helps in creating loosely coupled systems that are more flexible, maintainable, and scalable"
   ]
  },
  {
   "cell_type": "code",
   "execution_count": null,
   "id": "7f42852b-7ce8-46ca-95ee-d70c02232d11",
   "metadata": {},
   "outputs": [],
   "source": [
    "\"\"\"Q2. Differentiate between Abstraction and Encapsulation. Explain with an example.\"\"\""
   ]
  },
  {
   "cell_type": "code",
   "execution_count": null,
   "id": "954491fc-2b9f-4a70-ba6b-bfb4dea3f0de",
   "metadata": {},
   "outputs": [],
   "source": [
    "bstraction and Encapsulation are two important concepts in Object-Oriented Programming (OOP) and are often used together. However, they are different concepts, and it is important to understand the difference between them.\n",
    "\n",
    "Abstraction refers to the ability to focus on the essential features of an object, ignoring its internal implementation details. It is about providing a simplified view of the object to the outside world. For example, the essential features of a car are its ability to start, stop, accelerate, and change gears. These features form the abstract interface of the car and provide a simplified view of the car to the outside world.\n",
    "\n",
    "Encapsulation, on the other hand, is the practice of hiding the internal details of an object from the outside world. It is the mechanism of wrapping data and functions within an object, providing a secure mechanism for controlling access to the internal data of an object. For example, the internal workings of a car engine and transmission system are hidden behind the abstract interface of the car and are not accessible to the user.\n",
    "\n",
    "To put it simply, Abstraction focuses on what the object does, while Encapsulation focuses on how the object does it. They are both important concepts in OOP and are used together to create objects that are easy to use, understand, and maintain."
   ]
  },
  {
   "cell_type": "code",
   "execution_count": null,
   "id": "13487dff-fd1b-4bdd-aa99-be6ef5f4c8b7",
   "metadata": {},
   "outputs": [],
   "source": [
    "\"\"\"Q3. What is abc module in python? Why is it used?\"\"\""
   ]
  },
  {
   "cell_type": "code",
   "execution_count": null,
   "id": "ee088cfb-15eb-4fb3-a2ad-8e66beb52918",
   "metadata": {},
   "outputs": [],
   "source": [
    "The abc module in Python is the \"Abstract Base Class\" module. It is used to define abstract base classes in Python, which are classes that cannot be instantiated but can be used to define the interface that other classes must implement.\n",
    "\n",
    "An abstract base class is a class that contains one or more abstract methods, which are methods that are declared but have no implementation. When a class inherits from an abstract base class, it is required to provide implementations for all of the abstract methods in the base class. This helps enforce the implementation of certain methods in derived classes,"
   ]
  },
  {
   "cell_type": "code",
   "execution_count": null,
   "id": "8f7e6770-0976-47d6-bacb-72381213c079",
   "metadata": {},
   "outputs": [],
   "source": [
    "\"\"\"Q4. How can we achieve data abstraction?\"\"\""
   ]
  },
  {
   "cell_type": "code",
   "execution_count": null,
   "id": "9371ece4-2238-4f72-8bc5-c564e60638cf",
   "metadata": {},
   "outputs": [],
   "source": [
    "Data Abstraction is the process of hiding the implementation details of an object and exposing only the essential features to the outside world. It helps in providing a simplified view of the object and makes it easier to use and understand.\n",
    "\n",
    "Data Abstraction can be achieved in several ways:\n",
    "\n",
    "Encapsulation: Encapsulation is the mechanism of wrapping data and functions within an object, providing a secure mechanism for controlling access to the internal data of an object. By making the internal data of an object private and providing accessor methods to get and set the data, we can achieve data abstraction.\n",
    "\n",
    "Abstract Data Types (ADTs): ADTs are a way of defining data structures that provide a high-level view of the data and hide the implementation details. ADTs define a set of operations that can be performed on the data and provide a well-defined interface to interact with the data.\n",
    "\n",
    "Interfaces: In many object-oriented programming languages, including Java and Python, interfaces are used to define a set of methods that a class must implement. This helps in enforcing the implementation of certain methods"
   ]
  },
  {
   "cell_type": "code",
   "execution_count": null,
   "id": "66074db0-f166-47c8-8012-f580816c8df7",
   "metadata": {},
   "outputs": [],
   "source": [
    "\"\"\"Q5. Can we create an instance of an abstract class? Explain your answer.\"\"\""
   ]
  },
  {
   "cell_type": "code",
   "execution_count": null,
   "id": "9d8699c6-5094-4795-8677-d6e7ea628b6f",
   "metadata": {},
   "outputs": [],
   "source": []
  },
  {
   "cell_type": "code",
   "execution_count": null,
   "id": "dca146b0-339f-4c5b-8ac0-fe7fd511b1db",
   "metadata": {},
   "outputs": [],
   "source": []
  },
  {
   "cell_type": "code",
   "execution_count": null,
   "id": "0e742809-edbe-4388-b79a-b6eb7c679573",
   "metadata": {},
   "outputs": [],
   "source": []
  },
  {
   "cell_type": "code",
   "execution_count": null,
   "id": "abf2342d-d69c-44e4-ba5a-2778bc605561",
   "metadata": {},
   "outputs": [],
   "source": []
  },
  {
   "cell_type": "code",
   "execution_count": null,
   "id": "141e1f5d-78c6-4ec8-8dea-bdb99f6943a4",
   "metadata": {},
   "outputs": [],
   "source": []
  },
  {
   "cell_type": "code",
   "execution_count": null,
   "id": "8197a799-e38f-466a-ac82-af429c174598",
   "metadata": {},
   "outputs": [],
   "source": []
  },
  {
   "cell_type": "code",
   "execution_count": null,
   "id": "54ae5630-9504-4ae1-9599-43bafc4aabf6",
   "metadata": {},
   "outputs": [],
   "source": []
  },
  {
   "cell_type": "code",
   "execution_count": null,
   "id": "87218769-478b-434e-a5a0-eef532ef0ea7",
   "metadata": {},
   "outputs": [],
   "source": []
  },
  {
   "cell_type": "code",
   "execution_count": null,
   "id": "8e36d696-f6f2-4d6d-9214-414fcb29a336",
   "metadata": {},
   "outputs": [],
   "source": []
  },
  {
   "cell_type": "code",
   "execution_count": null,
   "id": "2a91477b-a74f-4947-a639-667eb30b60d4",
   "metadata": {},
   "outputs": [],
   "source": []
  }
 ],
 "metadata": {
  "kernelspec": {
   "display_name": "Python 3 (ipykernel)",
   "language": "python",
   "name": "python3"
  },
  "language_info": {
   "codemirror_mode": {
    "name": "ipython",
    "version": 3
   },
   "file_extension": ".py",
   "mimetype": "text/x-python",
   "name": "python",
   "nbconvert_exporter": "python",
   "pygments_lexer": "ipython3",
   "version": "3.10.8"
  }
 },
 "nbformat": 4,
 "nbformat_minor": 5
}
